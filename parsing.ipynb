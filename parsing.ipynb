{
 "cells": [
  {
   "cell_type": "code",
   "execution_count": 204,
   "id": "261b4635",
   "metadata": {},
   "outputs": [],
   "source": [
    "import spacy as sp\n",
    "from spacy.matcher import Matcher\n",
    "\n",
    "import pandas as pd"
   ]
  },
  {
   "cell_type": "code",
   "execution_count": 205,
   "id": "f9f98a7c",
   "metadata": {},
   "outputs": [],
   "source": [
    "data = pd.read_csv(\"test_data.csv\")\n",
    "nlp = sp.load(\"ru_core_news_md\")"
   ]
  },
  {
   "cell_type": "code",
   "execution_count": 206,
   "id": "131a7eb6",
   "metadata": {},
   "outputs": [
    {
     "data": {
      "text/html": [
       "<div>\n",
       "<style scoped>\n",
       "    .dataframe tbody tr th:only-of-type {\n",
       "        vertical-align: middle;\n",
       "    }\n",
       "\n",
       "    .dataframe tbody tr th {\n",
       "        vertical-align: top;\n",
       "    }\n",
       "\n",
       "    .dataframe thead th {\n",
       "        text-align: right;\n",
       "    }\n",
       "</style>\n",
       "<table border=\"1\" class=\"dataframe\">\n",
       "  <thead>\n",
       "    <tr style=\"text-align: right;\">\n",
       "      <th></th>\n",
       "      <th>dlg_id</th>\n",
       "      <th>line_n</th>\n",
       "      <th>role</th>\n",
       "      <th>text</th>\n",
       "    </tr>\n",
       "  </thead>\n",
       "  <tbody>\n",
       "    <tr>\n",
       "      <th>0</th>\n",
       "      <td>0</td>\n",
       "      <td>0</td>\n",
       "      <td>client</td>\n",
       "      <td>Алло</td>\n",
       "    </tr>\n",
       "    <tr>\n",
       "      <th>1</th>\n",
       "      <td>0</td>\n",
       "      <td>1</td>\n",
       "      <td>manager</td>\n",
       "      <td>Алло здравствуйте</td>\n",
       "    </tr>\n",
       "    <tr>\n",
       "      <th>2</th>\n",
       "      <td>0</td>\n",
       "      <td>2</td>\n",
       "      <td>client</td>\n",
       "      <td>Добрый день</td>\n",
       "    </tr>\n",
       "    <tr>\n",
       "      <th>3</th>\n",
       "      <td>0</td>\n",
       "      <td>3</td>\n",
       "      <td>manager</td>\n",
       "      <td>Меня зовут ангелина компания диджитал бизнес з...</td>\n",
       "    </tr>\n",
       "    <tr>\n",
       "      <th>4</th>\n",
       "      <td>0</td>\n",
       "      <td>4</td>\n",
       "      <td>client</td>\n",
       "      <td>Ага</td>\n",
       "    </tr>\n",
       "  </tbody>\n",
       "</table>\n",
       "</div>"
      ],
      "text/plain": [
       "   dlg_id  line_n     role                                               text\n",
       "0       0       0   client                                               Алло\n",
       "1       0       1  manager                                  Алло здравствуйте\n",
       "2       0       2   client                                        Добрый день\n",
       "3       0       3  manager  Меня зовут ангелина компания диджитал бизнес з...\n",
       "4       0       4   client                                                Ага"
      ]
     },
     "execution_count": 206,
     "metadata": {},
     "output_type": "execute_result"
    }
   ],
   "source": [
    "data.head()"
   ]
  },
  {
   "cell_type": "code",
   "execution_count": 207,
   "id": "df839c19",
   "metadata": {},
   "outputs": [
    {
     "name": "stdout",
     "output_type": "stream",
     "text": [
      "<class 'pandas.core.frame.DataFrame'>\n",
      "RangeIndex: 480 entries, 0 to 479\n",
      "Data columns (total 4 columns):\n",
      " #   Column  Non-Null Count  Dtype \n",
      "---  ------  --------------  ----- \n",
      " 0   dlg_id  480 non-null    int64 \n",
      " 1   line_n  480 non-null    int64 \n",
      " 2   role    480 non-null    object\n",
      " 3   text    480 non-null    object\n",
      "dtypes: int64(2), object(2)\n",
      "memory usage: 15.1+ KB\n"
     ]
    }
   ],
   "source": [
    "data.info()"
   ]
  },
  {
   "cell_type": "markdown",
   "id": "6711bfe2",
   "metadata": {},
   "source": [
    " "
   ]
  },
  {
   "cell_type": "markdown",
   "id": "0ad90d5b",
   "metadata": {},
   "source": [
    "a) Извлекать реплики с приветствием – где менеджер поздоровался."
   ]
  },
  {
   "cell_type": "code",
   "execution_count": 208,
   "id": "440609d3",
   "metadata": {},
   "outputs": [],
   "source": [
    "df = data[data[\"role\"] == 'manager']"
   ]
  },
  {
   "cell_type": "code",
   "execution_count": 210,
   "id": "131f5319",
   "metadata": {},
   "outputs": [],
   "source": [
    "matcher = Matcher(nlp.vocab)\n",
    "patterns = [\n",
    "    [{\"LOWER\": \"здравствуйте\"}],\n",
    "    [{\"LEMMA\": \"добрый\"}, {\"LEMMA\": {\"REGEX\": \"(утро|день|вечер)\"}}],\n",
    "]\n",
    "matcher.add(\"приветствие\", patterns)"
   ]
  },
  {
   "cell_type": "code",
   "execution_count": 212,
   "id": "69353a9d",
   "metadata": {},
   "outputs": [
    {
     "data": {
      "text/html": [
       "<div>\n",
       "<style scoped>\n",
       "    .dataframe tbody tr th:only-of-type {\n",
       "        vertical-align: middle;\n",
       "    }\n",
       "\n",
       "    .dataframe tbody tr th {\n",
       "        vertical-align: top;\n",
       "    }\n",
       "\n",
       "    .dataframe thead th {\n",
       "        text-align: right;\n",
       "    }\n",
       "</style>\n",
       "<table border=\"1\" class=\"dataframe\">\n",
       "  <thead>\n",
       "    <tr style=\"text-align: right;\">\n",
       "      <th></th>\n",
       "      <th>dlg_id</th>\n",
       "      <th>line_n</th>\n",
       "      <th>role</th>\n",
       "      <th>text</th>\n",
       "    </tr>\n",
       "  </thead>\n",
       "  <tbody>\n",
       "    <tr>\n",
       "      <th>1</th>\n",
       "      <td>0</td>\n",
       "      <td>1</td>\n",
       "      <td>manager</td>\n",
       "      <td>Алло здравствуйте</td>\n",
       "    </tr>\n",
       "    <tr>\n",
       "      <th>110</th>\n",
       "      <td>1</td>\n",
       "      <td>1</td>\n",
       "      <td>manager</td>\n",
       "      <td>Алло здравствуйте</td>\n",
       "    </tr>\n",
       "    <tr>\n",
       "      <th>166</th>\n",
       "      <td>2</td>\n",
       "      <td>2</td>\n",
       "      <td>manager</td>\n",
       "      <td>Алло здравствуйте</td>\n",
       "    </tr>\n",
       "    <tr>\n",
       "      <th>250</th>\n",
       "      <td>3</td>\n",
       "      <td>1</td>\n",
       "      <td>manager</td>\n",
       "      <td>Алло дмитрий добрый день</td>\n",
       "    </tr>\n",
       "  </tbody>\n",
       "</table>\n",
       "</div>"
      ],
      "text/plain": [
       "    dlg_id line_n     role                      text\n",
       "1        0      1  manager         Алло здравствуйте\n",
       "110      1      1  manager         Алло здравствуйте\n",
       "166      2      2  manager         Алло здравствуйте\n",
       "250      3      1  manager  Алло дмитрий добрый день"
      ]
     },
     "execution_count": 212,
     "metadata": {},
     "output_type": "execute_result"
    }
   ],
   "source": [
    "df_greeting = pd.DataFrame(data=None, columns=df.columns)\n",
    "for i, line in enumerate(df[\"text\"]):\n",
    "    doc = nlp(line)\n",
    "    greetings = matcher(doc)\n",
    "    for _ in greetings:\n",
    "        df_greeting = pd.concat([df_greeting, df.iloc[[i]]])\n",
    "df_greeting"
   ]
  },
  {
   "cell_type": "markdown",
   "id": "5dbc6a87",
   "metadata": {},
   "source": [
    "  "
   ]
  },
  {
   "cell_type": "markdown",
   "id": "6af2b6ee",
   "metadata": {},
   "source": [
    "b) Извлекать реплики, где менеджер представил себя. "
   ]
  },
  {
   "cell_type": "code",
   "execution_count": 213,
   "id": "2a310096",
   "metadata": {},
   "outputs": [],
   "source": [
    "df = data[data[\"role\"] == 'manager']"
   ]
  },
  {
   "cell_type": "code",
   "execution_count": 214,
   "id": "255e8ebe",
   "metadata": {},
   "outputs": [],
   "source": [
    "matcher = Matcher(nlp.vocab)"
   ]
  },
  {
   "cell_type": "code",
   "execution_count": 215,
   "id": "a5ee8c86",
   "metadata": {},
   "outputs": [],
   "source": [
    "patterns = [\n",
    "    [{\"LOWER\": \"меня\"}, {\"POS\": {\"REGEX\": \"(PERSON|PROPN)\"}, \"OP\": \"?\"}, {\"LOWER\": \"зовут\"}],\n",
    "    [{\"LOWER\": \"звать\"}, {\"LOWER\": \"меня\"}],\n",
    "    [{\"LOWER\": \"я\"}, {\"POS\": {\"REGEX\": \"(PROPN|PERSON)\"}}],\n",
    "    [{\"LOWER\": {\"REGEX\": (\"да|нет\")}}, {\"LOWER\": \"это\"}, {\"POS\": {\"REGEX\": \"(PROPN|PERSON)\"}}]\n",
    "]"
   ]
  },
  {
   "cell_type": "code",
   "execution_count": 216,
   "id": "3e571177",
   "metadata": {},
   "outputs": [],
   "source": [
    "matcher.add(\"представление\", patterns)"
   ]
  },
  {
   "cell_type": "code",
   "execution_count": 217,
   "id": "05e2f45a",
   "metadata": {},
   "outputs": [
    {
     "data": {
      "text/html": [
       "<div>\n",
       "<style scoped>\n",
       "    .dataframe tbody tr th:only-of-type {\n",
       "        vertical-align: middle;\n",
       "    }\n",
       "\n",
       "    .dataframe tbody tr th {\n",
       "        vertical-align: top;\n",
       "    }\n",
       "\n",
       "    .dataframe thead th {\n",
       "        text-align: right;\n",
       "    }\n",
       "</style>\n",
       "<table border=\"1\" class=\"dataframe\">\n",
       "  <thead>\n",
       "    <tr style=\"text-align: right;\">\n",
       "      <th></th>\n",
       "      <th>dlg_id</th>\n",
       "      <th>line_n</th>\n",
       "      <th>role</th>\n",
       "      <th>text</th>\n",
       "    </tr>\n",
       "  </thead>\n",
       "  <tbody>\n",
       "    <tr>\n",
       "      <th>3</th>\n",
       "      <td>0</td>\n",
       "      <td>3</td>\n",
       "      <td>manager</td>\n",
       "      <td>Меня зовут ангелина компания диджитал бизнес з...</td>\n",
       "    </tr>\n",
       "    <tr>\n",
       "      <th>111</th>\n",
       "      <td>1</td>\n",
       "      <td>2</td>\n",
       "      <td>manager</td>\n",
       "      <td>Меня зовут ангелина компания диджитал бизнес з...</td>\n",
       "    </tr>\n",
       "    <tr>\n",
       "      <th>167</th>\n",
       "      <td>2</td>\n",
       "      <td>3</td>\n",
       "      <td>manager</td>\n",
       "      <td>Меня зовут ангелина компания диджитал бизнес з...</td>\n",
       "    </tr>\n",
       "    <tr>\n",
       "      <th>251</th>\n",
       "      <td>3</td>\n",
       "      <td>2</td>\n",
       "      <td>manager</td>\n",
       "      <td>Добрый меня максим зовут компания китобизнес у...</td>\n",
       "    </tr>\n",
       "    <tr>\n",
       "      <th>338</th>\n",
       "      <td>5</td>\n",
       "      <td>1</td>\n",
       "      <td>manager</td>\n",
       "      <td>Да это анастасия</td>\n",
       "    </tr>\n",
       "  </tbody>\n",
       "</table>\n",
       "</div>"
      ],
      "text/plain": [
       "    dlg_id line_n     role                                               text\n",
       "3        0      3  manager  Меня зовут ангелина компания диджитал бизнес з...\n",
       "111      1      2  manager  Меня зовут ангелина компания диджитал бизнес з...\n",
       "167      2      3  manager  Меня зовут ангелина компания диджитал бизнес з...\n",
       "251      3      2  manager  Добрый меня максим зовут компания китобизнес у...\n",
       "338      5      1  manager                                   Да это анастасия"
      ]
     },
     "execution_count": 217,
     "metadata": {},
     "output_type": "execute_result"
    }
   ],
   "source": [
    "df_performance = pd.DataFrame(data=None, columns=df.columns)\n",
    "for i, line in enumerate(df[\"text\"]):\n",
    "    doc = nlp(line)\n",
    "    performances = matcher(doc)\n",
    "    for _ in performances:\n",
    "        df_performance = pd.concat([df_performance, df.iloc[[i]]])\n",
    "df_performance"
   ]
  },
  {
   "cell_type": "markdown",
   "id": "d5131812",
   "metadata": {},
   "source": [
    " "
   ]
  },
  {
   "cell_type": "markdown",
   "id": "0557fc63",
   "metadata": {},
   "source": [
    "c) Извлекать имя менеджера. "
   ]
  },
  {
   "cell_type": "code",
   "execution_count": 218,
   "id": "a2b2c9f4",
   "metadata": {},
   "outputs": [
    {
     "data": {
      "text/html": [
       "<div>\n",
       "<style scoped>\n",
       "    .dataframe tbody tr th:only-of-type {\n",
       "        vertical-align: middle;\n",
       "    }\n",
       "\n",
       "    .dataframe tbody tr th {\n",
       "        vertical-align: top;\n",
       "    }\n",
       "\n",
       "    .dataframe thead th {\n",
       "        text-align: right;\n",
       "    }\n",
       "</style>\n",
       "<table border=\"1\" class=\"dataframe\">\n",
       "  <thead>\n",
       "    <tr style=\"text-align: right;\">\n",
       "      <th></th>\n",
       "      <th>dlg_id</th>\n",
       "      <th>line_n</th>\n",
       "      <th>role</th>\n",
       "      <th>text</th>\n",
       "      <th>name</th>\n",
       "    </tr>\n",
       "  </thead>\n",
       "  <tbody>\n",
       "    <tr>\n",
       "      <th>3</th>\n",
       "      <td>0</td>\n",
       "      <td>3</td>\n",
       "      <td>manager</td>\n",
       "      <td>Меня зовут ангелина компания диджитал бизнес з...</td>\n",
       "      <td>ангелина</td>\n",
       "    </tr>\n",
       "    <tr>\n",
       "      <th>111</th>\n",
       "      <td>1</td>\n",
       "      <td>2</td>\n",
       "      <td>manager</td>\n",
       "      <td>Меня зовут ангелина компания диджитал бизнес з...</td>\n",
       "      <td>ангелина</td>\n",
       "    </tr>\n",
       "    <tr>\n",
       "      <th>167</th>\n",
       "      <td>2</td>\n",
       "      <td>3</td>\n",
       "      <td>manager</td>\n",
       "      <td>Меня зовут ангелина компания диджитал бизнес з...</td>\n",
       "      <td>ангелина</td>\n",
       "    </tr>\n",
       "    <tr>\n",
       "      <th>251</th>\n",
       "      <td>3</td>\n",
       "      <td>2</td>\n",
       "      <td>manager</td>\n",
       "      <td>Добрый меня максим зовут компания китобизнес у...</td>\n",
       "      <td>максим</td>\n",
       "    </tr>\n",
       "    <tr>\n",
       "      <th>338</th>\n",
       "      <td>5</td>\n",
       "      <td>1</td>\n",
       "      <td>manager</td>\n",
       "      <td>Да это анастасия</td>\n",
       "      <td>анастасия</td>\n",
       "    </tr>\n",
       "  </tbody>\n",
       "</table>\n",
       "</div>"
      ],
      "text/plain": [
       "    dlg_id line_n     role                                               text  \\\n",
       "3        0      3  manager  Меня зовут ангелина компания диджитал бизнес з...   \n",
       "111      1      2  manager  Меня зовут ангелина компания диджитал бизнес з...   \n",
       "167      2      3  manager  Меня зовут ангелина компания диджитал бизнес з...   \n",
       "251      3      2  manager  Добрый меня максим зовут компания китобизнес у...   \n",
       "338      5      1  manager                                   Да это анастасия   \n",
       "\n",
       "          name  \n",
       "3     ангелина  \n",
       "111   ангелина  \n",
       "167   ангелина  \n",
       "251     максим  \n",
       "338  анастасия  "
      ]
     },
     "execution_count": 218,
     "metadata": {},
     "output_type": "execute_result"
    }
   ],
   "source": [
    "arr_name = [\"NULL\" for _ in range(len(df_performance[\"text\"]))]\n",
    "for i, line in enumerate(df_performance[\"text\"]):\n",
    "    sen = nlp(line)\n",
    "    for name in sen:\n",
    "        if name.pos_ == \"PROPN\" and name.text != \"звоню\":\n",
    "            arr_name[i] = name\n",
    "df_performance[\"name\"] = arr_name\n",
    "df_performance"
   ]
  },
  {
   "cell_type": "markdown",
   "id": "29ef50d8",
   "metadata": {},
   "source": [
    " "
   ]
  },
  {
   "cell_type": "markdown",
   "id": "0584d162",
   "metadata": {},
   "source": [
    "d) Извлекать название компании."
   ]
  },
  {
   "cell_type": "code",
   "execution_count": 219,
   "id": "0af39b37",
   "metadata": {},
   "outputs": [],
   "source": [
    "import random\n",
    "from spacy.training import Example\n",
    "\n",
    "TRAINING_DATA = [\n",
    "    (\"Добрый меня максим зовут компания китобизнес удобно говорить\", \n",
    "    {\"entities\": [(34,44,\"COMPANY\")]}),\n",
    "    (\"Меня зовут ангелина компания диджитал бизнес звоню вам по поводу продления а мы сели обратила внимание что у вас срок заканчивается\", \n",
    "    {\"entities\": [(29,44,\"COMPANY\")]}),\n",
    "]\n",
    "\n",
    "for i in range(20):\n",
    "    random.shuffle(TRAINING_DATA)\n",
    "    for batch in sp.util.minibatch(TRAINING_DATA, size=4):\n",
    "        for text, annotations in batch:\n",
    "            doc = nlp.make_doc(text)\n",
    "            example = Example.from_dict(doc, annotations)\n",
    "            nlp.update([example])\n",
    "        \n",
    "nlp.to_disk(\"model\")"
   ]
  },
  {
   "cell_type": "code",
   "execution_count": 220,
   "id": "aff63c64",
   "metadata": {},
   "outputs": [
    {
     "data": {
      "text/html": [
       "<div>\n",
       "<style scoped>\n",
       "    .dataframe tbody tr th:only-of-type {\n",
       "        vertical-align: middle;\n",
       "    }\n",
       "\n",
       "    .dataframe tbody tr th {\n",
       "        vertical-align: top;\n",
       "    }\n",
       "\n",
       "    .dataframe thead th {\n",
       "        text-align: right;\n",
       "    }\n",
       "</style>\n",
       "<table border=\"1\" class=\"dataframe\">\n",
       "  <thead>\n",
       "    <tr style=\"text-align: right;\">\n",
       "      <th></th>\n",
       "      <th>dlg_id</th>\n",
       "      <th>line_n</th>\n",
       "      <th>role</th>\n",
       "      <th>text</th>\n",
       "      <th>company</th>\n",
       "    </tr>\n",
       "  </thead>\n",
       "  <tbody>\n",
       "    <tr>\n",
       "      <th>3</th>\n",
       "      <td>0</td>\n",
       "      <td>3</td>\n",
       "      <td>manager</td>\n",
       "      <td>Меня зовут ангелина компания диджитал бизнес з...</td>\n",
       "      <td>диджитал бизнес</td>\n",
       "    </tr>\n",
       "    <tr>\n",
       "      <th>111</th>\n",
       "      <td>1</td>\n",
       "      <td>2</td>\n",
       "      <td>manager</td>\n",
       "      <td>Меня зовут ангелина компания диджитал бизнес з...</td>\n",
       "      <td>диджитал бизнес</td>\n",
       "    </tr>\n",
       "    <tr>\n",
       "      <th>167</th>\n",
       "      <td>2</td>\n",
       "      <td>3</td>\n",
       "      <td>manager</td>\n",
       "      <td>Меня зовут ангелина компания диджитал бизнес з...</td>\n",
       "      <td>диджитал бизнес</td>\n",
       "    </tr>\n",
       "    <tr>\n",
       "      <th>251</th>\n",
       "      <td>3</td>\n",
       "      <td>2</td>\n",
       "      <td>manager</td>\n",
       "      <td>Добрый меня максим зовут компания китобизнес у...</td>\n",
       "      <td>китобизнес</td>\n",
       "    </tr>\n",
       "  </tbody>\n",
       "</table>\n",
       "</div>"
      ],
      "text/plain": [
       "    dlg_id line_n     role                                               text  \\\n",
       "3        0      3  manager  Меня зовут ангелина компания диджитал бизнес з...   \n",
       "111      1      2  manager  Меня зовут ангелина компания диджитал бизнес з...   \n",
       "167      2      3  manager  Меня зовут ангелина компания диджитал бизнес з...   \n",
       "251      3      2  manager  Добрый меня максим зовут компания китобизнес у...   \n",
       "\n",
       "             company  \n",
       "3    диджитал бизнес  \n",
       "111  диджитал бизнес  \n",
       "167  диджитал бизнес  \n",
       "251       китобизнес  "
      ]
     },
     "execution_count": 220,
     "metadata": {},
     "output_type": "execute_result"
    }
   ],
   "source": [
    "nlp = sp.load(\"model\")\n",
    "df_company = pd.DataFrame(data=None, columns=df.columns)\n",
    "arr_company = []\n",
    "for i, line in enumerate(df[\"text\"]):\n",
    "    doc = nlp(line)\n",
    "    for entity in doc.ents:\n",
    "        if entity.label_ == \"COMPANY\":\n",
    "            df_company = pd.concat([df_company, df.iloc[[i]]])\n",
    "            arr_company.append(entity.text)\n",
    "            \n",
    "df_company[\"company\"] = arr_company\n",
    "df_company"
   ]
  },
  {
   "cell_type": "markdown",
   "id": "89dab653",
   "metadata": {},
   "source": [
    " "
   ]
  },
  {
   "cell_type": "markdown",
   "id": "0f111f4d",
   "metadata": {},
   "source": [
    "e) Извлекать реплики, где менеджер попрощался."
   ]
  },
  {
   "cell_type": "code",
   "execution_count": 222,
   "id": "f9a84792",
   "metadata": {},
   "outputs": [],
   "source": [
    "nlp = sp.load(\"ru_core_news_md\")"
   ]
  },
  {
   "cell_type": "code",
   "execution_count": 233,
   "id": "b3d21ce1",
   "metadata": {},
   "outputs": [],
   "source": [
    "matcher = Matcher(nlp.vocab)\n",
    "pattern = [\n",
    "    [{\"LOWER\": \"до\"}, {\"LOWER\": {\"REGEX\": (\"свидания|встречи?|скорого\")}}],\n",
    "    [{\"LOWER\": \"всего\"}, {\"LOWER\": {\"REGEX\": (\"хорошего|доброго\")}}]\n",
    "]\n",
    "matcher.add(\"прощание\", pattern)"
   ]
  },
  {
   "cell_type": "code",
   "execution_count": 283,
   "id": "4c6a94fe",
   "metadata": {},
   "outputs": [
    {
     "data": {
      "text/html": [
       "<div>\n",
       "<style scoped>\n",
       "    .dataframe tbody tr th:only-of-type {\n",
       "        vertical-align: middle;\n",
       "    }\n",
       "\n",
       "    .dataframe tbody tr th {\n",
       "        vertical-align: top;\n",
       "    }\n",
       "\n",
       "    .dataframe thead th {\n",
       "        text-align: right;\n",
       "    }\n",
       "</style>\n",
       "<table border=\"1\" class=\"dataframe\">\n",
       "  <thead>\n",
       "    <tr style=\"text-align: right;\">\n",
       "      <th></th>\n",
       "      <th>dlg_id</th>\n",
       "      <th>line_n</th>\n",
       "      <th>role</th>\n",
       "      <th>text</th>\n",
       "    </tr>\n",
       "  </thead>\n",
       "  <tbody>\n",
       "    <tr>\n",
       "      <th>108</th>\n",
       "      <td>0</td>\n",
       "      <td>108</td>\n",
       "      <td>manager</td>\n",
       "      <td>Всего хорошего до свидания</td>\n",
       "    </tr>\n",
       "    <tr>\n",
       "      <th>162</th>\n",
       "      <td>1</td>\n",
       "      <td>53</td>\n",
       "      <td>manager</td>\n",
       "      <td>Угу да вижу я эту почту хорошо тогда исправлю ...</td>\n",
       "    </tr>\n",
       "    <tr>\n",
       "      <th>163</th>\n",
       "      <td>1</td>\n",
       "      <td>54</td>\n",
       "      <td>manager</td>\n",
       "      <td>До свидания</td>\n",
       "    </tr>\n",
       "    <tr>\n",
       "      <th>300</th>\n",
       "      <td>3</td>\n",
       "      <td>51</td>\n",
       "      <td>manager</td>\n",
       "      <td>Угу все хорошо да понедельника тогда всего доб...</td>\n",
       "    </tr>\n",
       "    <tr>\n",
       "      <th>335</th>\n",
       "      <td>4</td>\n",
       "      <td>33</td>\n",
       "      <td>manager</td>\n",
       "      <td>Во вторник все ну с вами да тогда до вторника ...</td>\n",
       "    </tr>\n",
       "    <tr>\n",
       "      <th>479</th>\n",
       "      <td>5</td>\n",
       "      <td>142</td>\n",
       "      <td>manager</td>\n",
       "      <td>Ну до свидания хорошего вечера</td>\n",
       "    </tr>\n",
       "  </tbody>\n",
       "</table>\n",
       "</div>"
      ],
      "text/plain": [
       "    dlg_id line_n     role                                               text\n",
       "108      0    108  manager                         Всего хорошего до свидания\n",
       "162      1     53  manager  Угу да вижу я эту почту хорошо тогда исправлю ...\n",
       "163      1     54  manager                                        До свидания\n",
       "300      3     51  manager  Угу все хорошо да понедельника тогда всего доб...\n",
       "335      4     33  manager  Во вторник все ну с вами да тогда до вторника ...\n",
       "479      5    142  manager                     Ну до свидания хорошего вечера"
      ]
     },
     "execution_count": 283,
     "metadata": {},
     "output_type": "execute_result"
    }
   ],
   "source": [
    "df_parting = pd.DataFrame(data=None, columns=df.columns)\n",
    "for i, line in enumerate(df[\"text\"]):\n",
    "    doc = nlp(line)\n",
    "    partings = matcher(doc)\n",
    "    for _ in partings:\n",
    "        df_parting = pd.concat([df_parting, df.iloc[[i]]])\n",
    "df_parting = df_parting.drop_duplicates(keep='first')\n",
    "df_parting"
   ]
  },
  {
   "cell_type": "markdown",
   "id": "f18a2f6d",
   "metadata": {},
   "source": [
    " "
   ]
  },
  {
   "cell_type": "markdown",
   "id": "0d86e4e2",
   "metadata": {},
   "source": [
    "f) Проверять требование к менеджеру: «В каждом диалоге обязательно необходимо поздороваться и попрощаться с клиентом»"
   ]
  },
  {
   "cell_type": "code",
   "execution_count": 284,
   "id": "dcec14bb",
   "metadata": {},
   "outputs": [
    {
     "data": {
      "text/html": [
       "<div>\n",
       "<style scoped>\n",
       "    .dataframe tbody tr th:only-of-type {\n",
       "        vertical-align: middle;\n",
       "    }\n",
       "\n",
       "    .dataframe tbody tr th {\n",
       "        vertical-align: top;\n",
       "    }\n",
       "\n",
       "    .dataframe thead th {\n",
       "        text-align: right;\n",
       "    }\n",
       "</style>\n",
       "<table border=\"1\" class=\"dataframe\">\n",
       "  <thead>\n",
       "    <tr style=\"text-align: right;\">\n",
       "      <th></th>\n",
       "      <th>dlg_id</th>\n",
       "      <th>Fulfillment of requirements</th>\n",
       "    </tr>\n",
       "  </thead>\n",
       "  <tbody>\n",
       "    <tr>\n",
       "      <th>0</th>\n",
       "      <td>0</td>\n",
       "      <td>1</td>\n",
       "    </tr>\n",
       "    <tr>\n",
       "      <th>1</th>\n",
       "      <td>1</td>\n",
       "      <td>1</td>\n",
       "    </tr>\n",
       "    <tr>\n",
       "      <th>2</th>\n",
       "      <td>2</td>\n",
       "      <td>0</td>\n",
       "    </tr>\n",
       "    <tr>\n",
       "      <th>3</th>\n",
       "      <td>3</td>\n",
       "      <td>1</td>\n",
       "    </tr>\n",
       "    <tr>\n",
       "      <th>4</th>\n",
       "      <td>4</td>\n",
       "      <td>0</td>\n",
       "    </tr>\n",
       "    <tr>\n",
       "      <th>5</th>\n",
       "      <td>5</td>\n",
       "      <td>1</td>\n",
       "    </tr>\n",
       "  </tbody>\n",
       "</table>\n",
       "</div>"
      ],
      "text/plain": [
       "   dlg_id  Fulfillment of requirements\n",
       "0       0                            1\n",
       "1       1                            1\n",
       "2       2                            0\n",
       "3       3                            1\n",
       "4       4                            0\n",
       "5       5                            1"
      ]
     },
     "execution_count": 284,
     "metadata": {},
     "output_type": "execute_result"
    }
   ],
   "source": [
    "dlg_id = list(set(df[\"dlg_id\"]))\n",
    "df_manager = pd.DataFrame(data = [[dlg_id[i], 0] for i in range(len(dlg_id))], \n",
    "                          columns = [\"dlg_id\",\"Fulfillment of requirements\"])\n",
    "\n",
    "for i in dlg_id:\n",
    "    if i in df_parting['dlg_id'].values and i in df_performance['dlg_id'].values:\n",
    "        df_manager.at[i, \"Fulfillment of requirements\"] = 1\n",
    "\n",
    "df_manager"
   ]
  }
 ],
 "metadata": {
  "kernelspec": {
   "display_name": "Python 3",
   "language": "python",
   "name": "python3"
  },
  "language_info": {
   "codemirror_mode": {
    "name": "ipython",
    "version": 3
   },
   "file_extension": ".py",
   "mimetype": "text/x-python",
   "name": "python",
   "nbconvert_exporter": "python",
   "pygments_lexer": "ipython3",
   "version": "3.8.8"
  }
 },
 "nbformat": 4,
 "nbformat_minor": 5
}
